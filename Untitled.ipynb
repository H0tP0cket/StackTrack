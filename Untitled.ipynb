{
 "cells": [
  {
   "cell_type": "code",
   "execution_count": null,
   "id": "6533eb9f",
   "metadata": {},
   "outputs": [],
   "source": [
    "import matplotlib.pyplot as plt\n",
    "import numpy as np\n",
    "from sklearn.metrics import r2_score\n",
    "\n",
    "def generate_data():\n",
    "    # Generate random slopes for the three graphs ensuring average slope is around 0.985\n",
    "    slopes = np.random.uniform(0.97, 1, 3)\n",
    "    while abs(np.mean(slopes) - 0.985) > 0.01:  # Adjust the threshold for the average slope\n",
    "        slopes = np.random.uniform(0.97, 1, 3)\n",
    "\n",
    "    # Generate random data for each graph\n",
    "    data = []\n",
    "    for slope in slopes:\n",
    "        x = np.linspace(0, 5, 12)  # 12 slightly uneven intervals over 5 seconds\n",
    "        y = slope * x + np.random.uniform(-0.1, 0.1, 12)  # Adding noise to the data\n",
    "        data.append(np.column_stack((x, y)))\n",
    "\n",
    "    return data\n",
    "\n",
    "def plot_data(ax, data, trial_num):\n",
    "    x, y = data[:, 0], data[:, 1]\n",
    "    ax.scatter(x, y)\n",
    "    ax.set_xlabel('Time (seconds)')\n",
    "    ax.set_ylabel(f'Trial {trial_num} - Value')\n",
    "    ax.set_title(f'Trial {trial_num} - x vs t')\n",
    "\n",
    "    # Fit a polynomial line (1st degree, a straight line) to the data\n",
    "    coefficients = np.polyfit(x, y, 1)\n",
    "    trendline = np.poly1d(coefficients)\n",
    "    ax.plot(x, trendline(x), color='red', label=f'Line Equation: y = {coefficients[0]:.2f}x + {coefficients[1]:.2f}')\n",
    "\n",
    "    # Calculate R-squared value\n",
    "    r_squared = r2_score(y, trendline(x))\n",
    "    print(f\"R-squared for Trial {trial_num}: {r_squared:.2f}\")\n",
    "\n",
    "    # Show equation label\n",
    "    ax.legend()\n",
    "\n",
    "# Create subplots for each trial\n",
    "fig, axs = plt.subplots(1, 3, figsize=(15, 5))\n",
    "\n",
    "# Generate and plot random data for three trials\n",
    "for i in range(3):\n",
    "    data_trial = generate_data()[i]\n",
    "    plot_data(axs[i], data_trial, i+1)\n",
    "\n",
    "plt.tight_layout()\n",
    "plt.show()"
   ]
  },
  {
   "cell_type": "code",
   "execution_count": null,
   "id": "7ccec429",
   "metadata": {},
   "outputs": [],
   "source": []
  },
  {
   "cell_type": "code",
   "execution_count": null,
   "id": "2f54b2cb",
   "metadata": {},
   "outputs": [],
   "source": []
  },
  {
   "cell_type": "code",
   "execution_count": null,
   "id": "b18a235f",
   "metadata": {},
   "outputs": [],
   "source": []
  },
  {
   "cell_type": "code",
   "execution_count": null,
   "id": "b16385e6",
   "metadata": {},
   "outputs": [],
   "source": []
  },
  {
   "cell_type": "code",
   "execution_count": null,
   "id": "bad4e2a6",
   "metadata": {},
   "outputs": [],
   "source": []
  },
  {
   "cell_type": "code",
   "execution_count": null,
   "id": "b403e5be",
   "metadata": {},
   "outputs": [],
   "source": []
  },
  {
   "cell_type": "code",
   "execution_count": null,
   "id": "49b488c4",
   "metadata": {},
   "outputs": [],
   "source": []
  },
  {
   "cell_type": "code",
   "execution_count": null,
   "id": "f189f2df",
   "metadata": {},
   "outputs": [],
   "source": []
  },
  {
   "cell_type": "code",
   "execution_count": null,
   "id": "dcb219d9",
   "metadata": {},
   "outputs": [],
   "source": []
  },
  {
   "cell_type": "code",
   "execution_count": null,
   "id": "a7344803",
   "metadata": {},
   "outputs": [],
   "source": []
  },
  {
   "cell_type": "code",
   "execution_count": null,
   "id": "cdc9ac90",
   "metadata": {},
   "outputs": [],
   "source": []
  },
  {
   "cell_type": "code",
   "execution_count": null,
   "id": "2bddd085",
   "metadata": {},
   "outputs": [],
   "source": []
  },
  {
   "cell_type": "code",
   "execution_count": null,
   "id": "62d43425",
   "metadata": {},
   "outputs": [],
   "source": []
  },
  {
   "cell_type": "code",
   "execution_count": null,
   "id": "d9884a59",
   "metadata": {},
   "outputs": [],
   "source": []
  },
  {
   "cell_type": "code",
   "execution_count": null,
   "id": "659e9bef",
   "metadata": {},
   "outputs": [],
   "source": []
  },
  {
   "cell_type": "code",
   "execution_count": null,
   "id": "e49ccec0",
   "metadata": {},
   "outputs": [],
   "source": []
  },
  {
   "cell_type": "code",
   "execution_count": null,
   "id": "9bcc93f6",
   "metadata": {},
   "outputs": [],
   "source": []
  },
  {
   "cell_type": "code",
   "execution_count": null,
   "id": "1ec9ef53",
   "metadata": {},
   "outputs": [],
   "source": []
  },
  {
   "cell_type": "code",
   "execution_count": null,
   "id": "6cab0798",
   "metadata": {},
   "outputs": [],
   "source": []
  },
  {
   "cell_type": "code",
   "execution_count": null,
   "id": "10b2c668",
   "metadata": {},
   "outputs": [],
   "source": []
  }
 ],
 "metadata": {
  "kernelspec": {
   "display_name": "Python 3 (ipykernel)",
   "language": "python",
   "name": "python3"
  },
  "language_info": {
   "codemirror_mode": {
    "name": "ipython",
    "version": 3
   },
   "file_extension": ".py",
   "mimetype": "text/x-python",
   "name": "python",
   "nbconvert_exporter": "python",
   "pygments_lexer": "ipython3",
   "version": "3.9.13"
  }
 },
 "nbformat": 4,
 "nbformat_minor": 5
}
