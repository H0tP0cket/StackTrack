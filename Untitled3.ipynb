{
 "cells": [
  {
   "cell_type": "code",
   "execution_count": null,
   "id": "d349a396",
   "metadata": {},
   "outputs": [],
   "source": [
    "import matplotlib.pyplot as plt\n",
    "import numpy as np\n",
    "from sklearn.metrics import r2_score\n",
    "\n",
    "def generate_data():\n",
    "    while True:\n",
    "        # Generate random slopes for the three graphs ensuring the sum is 2.955\n",
    "        slopes = np.random.uniform(0.97, 1, 3)\n",
    "\n",
    "        # Generate random data for each graph\n",
    "        data = []\n",
    "        for slope in slopes:\n",
    "            x = np.linspace(0, 5, 12)  # 12 slightly uneven intervals over 5 seconds\n",
    "            y = slope * x + np.random.uniform(-0.6, 0.2, 12)  # Adding noise to the data\n",
    "            data.append(np.column_stack((x, y)))\n",
    "\n",
    "        # Check if the sum of slopes, after adding noise, is approximately 2.955\n",
    "        if abs(np.sum([np.mean(data[i][:, 1] - slope * data[i][:, 0]) for i, slope in enumerate(slopes)]) - 2.95) < 0.0001:\n",
    "            break\n",
    "\n",
    "    return data\n",
    "\n",
    "def plot_data(ax, data, trial_num):\n",
    "    x, y = data[:, 0], data[:, 1]\n",
    "    ax.scatter(x, y)\n",
    "    ax.set_xlabel('Time (seconds)')\n",
    "    ax.set_ylabel('Distance (meters)')\n",
    "    ax.set_title(f'Trial {trial_num} - x vs t')\n",
    "\n",
    "    # Fit a polynomial line (1st degree, a straight line) to the data\n",
    "    coefficients = np.polyfit(x, y, 1)\n",
    "    trendline = np.poly1d(coefficients)\n",
    "    ax.plot(x, trendline(x), color='red', label=f'Line Equation: y = {coefficients[0]:.2f}x + {coefficients[1]:.2f}')\n",
    "\n",
    "    # Calculate R-squared value\n",
    "    r_squared = r2_score(y, trendline(x))\n",
    "    print(f\"R-squared for Trial {trial_num}: {r_squared:.2f}\")\n",
    "\n",
    "    # Show equation label\n",
    "    ax.legend()\n",
    "\n",
    "# Create subplots for each trial\n",
    "fig, axs = plt.subplots(1, 3, figsize=(15, 5))\n",
    "\n",
    "# Generate and plot random data for three trials\n",
    "for i in range(3):\n",
    "    data_trial = generate_data()[i]\n",
    "    plot_data(axs[i], data_trial, i+1)\n",
    "\n",
    "plt.tight_layout()\n",
    "plt.show()\n"
   ]
  },
  {
   "cell_type": "code",
   "execution_count": 3,
   "id": "138258cc",
   "metadata": {},
   "outputs": [
    {
     "name": "stdout",
     "output_type": "stream",
     "text": [
      "Classify 6: abundant\n",
      "Classify 10: abundant\n",
      "Classify 12: abundant\n"
     ]
    }
   ],
   "source": [
    "def classify(n):\n",
    "    total, k = 0, 1\n",
    "    while k <= n:\n",
    "        if n // (k + 1) == n / (k+1) :\n",
    "            total += (k+1)\n",
    "        k = k + 1\n",
    "    if total == n:\n",
    "        return 'perfect'\n",
    "    elif total < n:\n",
    "        return 'deficient'\n",
    "    else:\n",
    "        return 'abundant'\n",
    "\n",
    "def main():\n",
    "    # Test cases\n",
    "    print(f\"Classify 6: {classify(6)}\")    # perfect\n",
    "    print(f\"Classify 10: {classify(10)}\")  # deficient\n",
    "    print(f\"Classify 12: {classify(12)}\")  # abundant\n",
    "\n",
    "    # You can also ask for user input to test other numbers\n",
    "\n",
    "\n",
    "# Run the main function\n",
    "if __name__ == \"__main__\":\n",
    "    main()\n"
   ]
  },
  {
   "cell_type": "code",
   "execution_count": null,
   "id": "5b04afb3",
   "metadata": {},
   "outputs": [],
   "source": []
  }
 ],
 "metadata": {
  "kernelspec": {
   "display_name": "Python 3 (ipykernel)",
   "language": "python",
   "name": "python3"
  },
  "language_info": {
   "codemirror_mode": {
    "name": "ipython",
    "version": 3
   },
   "file_extension": ".py",
   "mimetype": "text/x-python",
   "name": "python",
   "nbconvert_exporter": "python",
   "pygments_lexer": "ipython3",
   "version": "3.9.13"
  }
 },
 "nbformat": 4,
 "nbformat_minor": 5
}
